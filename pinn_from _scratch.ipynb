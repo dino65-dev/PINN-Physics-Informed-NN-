{
 "cells": [
  {
   "cell_type": "markdown",
   "id": "6bbc1734",
   "metadata": {},
   "source": [
    "## PINN(Physics Informed Neural Networks)"
   ]
  },
  {
   "cell_type": "markdown",
   "id": "bc5af230",
   "metadata": {},
   "source": [
    "### Importing neccessary lib"
   ]
  },
  {
   "cell_type": "code",
   "execution_count": 73,
   "id": "bc866b7a",
   "metadata": {},
   "outputs": [],
   "source": [
    "import torch\n",
    "import torch.nn as nn\n",
    "import numpy as np\n",
    "import matplotlib.pyplot as plt"
   ]
  },
  {
   "cell_type": "markdown",
   "id": "c0266bd0",
   "metadata": {},
   "source": [
    "### Generate synthetic Data"
   ]
  },
  {
   "cell_type": "code",
   "execution_count": 74,
   "id": "34055a8b",
   "metadata": {},
   "outputs": [],
   "source": [
    "# -------------------\n",
    "# 1. Generate Synthetic Data\n",
    "# --------------------\n",
    "\n",
    "#Physics parameters\n",
    "g = 9.8 # accelaration due to gravity\n",
    "h0 = 1.0 # initial state(height)\n",
    "v0 = 10.0 # initial velocity\n",
    "\n",
    "# True (physics) solution h(t) = h0 + v0*t - 0.5g*t^2\n",
    "def true_physics(t):\n",
    "    return h0 + v0*t - 0.5*g*(t**2)\n",
    "\n",
    "#Generate some time points\n",
    "t_min , t_max = 0.0, 6.0\n",
    "N_data = 10 # data points\n",
    "t_data = np.linspace(t_min,t_max,N_data)\n",
    "\n",
    "#Genearate synthetic \"experimental\" heights with noise\n",
    "np.random.seed(0)\n",
    "noise_level = 0.7\n",
    "h_data_exact = true_physics(t_data)\n",
    "h_data_nosiy = h_data_exact + noise_level*np.random.randn(N_data)\n",
    "\n",
    "#Convert to pytorch tensors\n",
    "t_data_tensor = torch.tensor(t_data,dtype=torch.float32).view(-1,1)\n",
    "h_data_tensor = torch.tensor(h_data_nosiy, dtype=torch.float32).view(-1,1)"
   ]
  },
  {
   "cell_type": "markdown",
   "id": "70f0fe7c",
   "metadata": {},
   "source": [
    "### Define a small feed-forward neural network for h(t)"
   ]
  },
  {
   "cell_type": "code",
   "execution_count": 75,
   "id": "45994673",
   "metadata": {},
   "outputs": [],
   "source": [
    "class PINN(nn.Module):\n",
    "    def __init__(self,n_hidden = 20):\n",
    "        super(PINN,self).__init__()\n",
    "        # A simple MLP with 2 hidden layers\n",
    "        self.net = nn.Sequential(\n",
    "            nn.Linear(1,n_hidden),\n",
    "            nn.Tanh(),\n",
    "            nn.Linear(n_hidden,n_hidden),\n",
    "            nn.Tanh(),\n",
    "            nn.Linear(n_hidden,1)\n",
    "        )\n",
    "    \n",
    "    def forward(self,t):\n",
    "        \"\"\"\n",
    "        Forward pass: input shape (batch_size, 1) -> output shape (batch_size, 1)\n",
    "        \"\"\"\n",
    "        return self.net(t)\n",
    "\n",
    "#Instantiate the model\n",
    "model = PINN(n_hidden=20)"
   ]
  },
  {
   "cell_type": "markdown",
   "id": "81ebe735",
   "metadata": {},
   "source": [
    "### Helper for Automatic Differentiation"
   ]
  },
  {
   "cell_type": "code",
   "execution_count": 76,
   "id": "d3ea6024",
   "metadata": {},
   "outputs": [],
   "source": [
    "def dervative(y,x):\n",
    "     \"\"\"\n",
    "    Computes dy/dx using PyTorch's autograd.\n",
    "    y and x must be tensors with requires_grad=True for x.\n",
    "    \"\"\"\n",
    "     return torch.autograd.grad(\n",
    "          y,x,\n",
    "          grad_outputs = torch.ones_like(y), # importance to each element w1*dy/dx , w1 is importance to that element\n",
    "          create_graph = True # need graph to compute sceond derivative\n",
    "     )[0]"
   ]
  },
  {
   "cell_type": "markdown",
   "id": "7acd5afc",
   "metadata": {},
   "source": [
    "### Define the loss Components(PINN)"
   ]
  },
  {
   "cell_type": "code",
   "execution_count": 77,
   "id": "388573e2",
   "metadata": {},
   "outputs": [],
   "source": [
    "# We have:\n",
    "#    (1) Data loss (fit noisy data)\n",
    "#    (2) ODE loss: dh/dt = v0 - g * t\n",
    "#    (3) Initial condition loss: h(0) = h0\n",
    "def physics_loss(model,t):\n",
    "     \"\"\"\n",
    "    Compare d(h_pred)/dt with the known expression (v0 - g t).\n",
    "    \"\"\"\n",
    "     # t must have requires_grad = True for autograd to work\n",
    "     t.requires_grad_(True)\n",
    "\n",
    "     h_pred = model(t)\n",
    "     dh_dt_pred = dervative(h_pred,t)\n",
    "\n",
    "     #For each t , physics says dh/dt = v0 - g *t\n",
    "     dh_dt_true = v0 - g * t\n",
    "\n",
    "     loss_ode = torch.mean((dh_dt_pred - dh_dt_true)**2)\n",
    "     return loss_ode\n",
    "\n",
    "def initial_condition_loss(model):\n",
    "     \"\"\"\n",
    "    Enforce h(0) = h0.\n",
    "    \"\"\"\n",
    "     # Evaluate at t=0\n",
    "     t0 = torch.zeros(1,1,dtype=torch.float32\n",
    "                      ,requires_grad = False)\n",
    "     h0_pred = model(t0)\n",
    "     return (h0_pred - h0).pow(2).mean()\n",
    "\n",
    "def data_loss(model,t_data,h_data):\n",
    "     \"\"\"\n",
    "    MSE between predicted h(t_i) and noisy measurements h_data.\n",
    "    \"\"\"\n",
    "     h_pred = model(t_data)\n",
    "     return torch.mean((h_pred - h_data)**2)\n",
    "     "
   ]
  },
  {
   "cell_type": "markdown",
   "id": "7f5bbc9d",
   "metadata": {},
   "source": [
    "### Training Setup"
   ]
  },
  {
   "cell_type": "code",
   "execution_count": 78,
   "id": "35c8904c",
   "metadata": {},
   "outputs": [],
   "source": [
    "# ---------------------------------------\n",
    "# 5. Training Setup\n",
    "# ---------------------------------------\n",
    "optimizer = torch.optim.Adam(model.parameters(), lr=0.01)\n",
    "\n",
    "# Hyperparameters for weighting the loss terms\n",
    "lambda_data = 1.0\n",
    "lambda_ode  = 0.5\n",
    "lambda_ic   = 0.5\n",
    "\n",
    "# For logging\n",
    "num_epochs = 2000\n",
    "print_every = 200"
   ]
  },
  {
   "cell_type": "markdown",
   "id": "8c319d65",
   "metadata": {},
   "source": [
    "### Training Loop"
   ]
  },
  {
   "cell_type": "code",
   "execution_count": 79,
   "id": "57549cd9",
   "metadata": {},
   "outputs": [
    {
     "name": "stdout",
     "output_type": "stream",
     "text": [
      "Epoch 200/2000, Total Loss = 1100.822144, Data Loss = 831.221863, ODE Loss = 524.606934, IC Loss = 14.593476\n",
      "Epoch 400/2000, Total Loss = 470.657837, Data Loss = 316.345917, ODE Loss = 307.754913, IC Loss = 0.868874\n",
      "Epoch 600/2000, Total Loss = 238.548508, Data Loss = 118.689316, ODE Loss = 239.656219, IC Loss = 0.062162\n",
      "Epoch 800/2000, Total Loss = 69.896011, Data Loss = 60.928253, ODE Loss = 17.891460, IC Loss = 0.044047\n",
      "Epoch 1000/2000, Total Loss = 28.170172, Data Loss = 27.502090, ODE Loss = 1.278037, IC Loss = 0.058125\n",
      "Epoch 1200/2000, Total Loss = 16.228170, Data Loss = 15.097285, ODE Loss = 2.227538, IC Loss = 0.034235\n",
      "Epoch 1400/2000, Total Loss = 6.189430, Data Loss = 5.416531, ODE Loss = 1.516618, IC Loss = 0.029181\n",
      "Epoch 1600/2000, Total Loss = 2.887156, Data Loss = 2.791976, ODE Loss = 0.162202, IC Loss = 0.028159\n",
      "Epoch 1800/2000, Total Loss = 2.467713, Data Loss = 1.615744, ODE Loss = 1.672514, IC Loss = 0.031425\n",
      "Epoch 2000/2000, Total Loss = 2.138304, Data Loss = 1.088656, ODE Loss = 2.057863, IC Loss = 0.041435\n"
     ]
    }
   ],
   "source": [
    "# ---------------------------------------\n",
    "# 6. Training Loop\n",
    "# ---------------------------------------\n",
    "model.train()\n",
    "for epoch in range(num_epochs):\n",
    "    optimizer.zero_grad()\n",
    "\n",
    "    # Compute losses\n",
    "    l_data = data_loss(model, t_data_tensor, h_data_tensor)\n",
    "    l_ode  = physics_loss(model, t_data_tensor)\n",
    "    l_ic   = initial_condition_loss(model)\n",
    "\n",
    "    # Combined loss\n",
    "    loss = lambda_data * l_data + lambda_ode * l_ode + lambda_ic * l_ic\n",
    "\n",
    "    # Backprop\n",
    "    loss.backward()\n",
    "    optimizer.step()\n",
    "\n",
    "    # Print progress\n",
    "    if (epoch+1) % print_every == 0:\n",
    "        print(f\"Epoch {epoch+1}/{num_epochs}, \"\n",
    "              f\"Total Loss = {loss.item():.6f}, \"\n",
    "              f\"Data Loss = {l_data.item():.6f}, \"\n",
    "              f\"ODE Loss = {l_ode.item():.6f}, \"\n",
    "              f\"IC Loss = {l_ic.item():.6f}\")"
   ]
  },
  {
   "cell_type": "markdown",
   "id": "6269df20",
   "metadata": {},
   "source": [
    "### Evaluate the Trained Model"
   ]
  },
  {
   "cell_type": "code",
   "execution_count": 80,
   "id": "2dfff43c",
   "metadata": {},
   "outputs": [
    {
     "data": {
      "image/png": "[encoded data removed]",
      "text/plain": [
       "<Figure size 800x500 with 1 Axes>"
      ]
     },
     "metadata": {},
     "output_type": "display_data"
    }
   ],
   "source": [
    "# ---------------------------------------\n",
    "# 7. Evaluate the Trained Model\n",
    "# ---------------------------------------\n",
    "model.eval()\n",
    "t_plot = np.linspace(t_min, t_max, 100).reshape(-1, 1).astype(np.float32)\n",
    "t_plot_tensor = torch.tensor(t_plot, requires_grad=True)\n",
    "h_pred_plot = model(t_plot_tensor).detach().numpy()\n",
    "\n",
    "# True solution (for comparison)\n",
    "h_true_plot = true_physics(t_plot)\n",
    "\n",
    "# Plot results\n",
    "plt.figure(figsize=(8, 5))\n",
    "plt.scatter(t_data, h_data_nosiy, color='red', label='Noisy Data')\n",
    "plt.plot(t_plot, h_true_plot, 'k--', label='Exact Solution')\n",
    "plt.plot(t_plot, h_pred_plot, 'b', label='PINN Prediction')\n",
    "plt.xlabel('t')\n",
    "plt.ylabel('h(t)')\n",
    "plt.legend()\n",
    "plt.title('PINN for Ball Trajectory')\n",
    "plt.grid(True)\n",
    "plt.show()"
   ]
  }
 ],
 "metadata": {
  "kernelspec": {
   "display_name": "Python 3 (ipykernel)",
   "language": "python",
   "name": "python3"
  },
  "language_info": {
   "codemirror_mode": {
    "name": "ipython",
    "version": 3
   },
   "file_extension": ".py",
   "mimetype": "text/x-python",
   "name": "python",
   "nbconvert_exporter": "python",
   "pygments_lexer": "ipython3",
   "version": "3.11.11"
  }
 },
 "nbformat": 4,
 "nbformat_minor": 5
}
